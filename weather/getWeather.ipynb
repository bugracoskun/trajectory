{
 "cells": [
  {
   "cell_type": "markdown",
   "metadata": {},
   "source": [
    "Open Weather MAP"
   ]
  },
  {
   "cell_type": "code",
   "execution_count": 7,
   "metadata": {},
   "outputs": [],
   "source": [
    "import requests\n",
    "import json\n",
    "import csv\n",
    "from datetime import datetime"
   ]
  },
  {
   "cell_type": "code",
   "execution_count": 21,
   "metadata": {},
   "outputs": [
    {
     "name": "stdout",
     "output_type": "stream",
     "text": [
      "25\n",
      "25\n",
      "25\n",
      "25\n",
      "25\n",
      "25\n",
      "25\n",
      "25\n",
      "25\n",
      "25\n",
      "25\n",
      "25\n",
      "25\n",
      "25\n",
      "25\n",
      "25\n",
      "25\n",
      "25\n",
      "25\n",
      "25\n",
      "25\n",
      "25\n",
      "25\n",
      "25\n",
      "25\n",
      "25\n",
      "25\n",
      "25\n",
      "25\n",
      "25\n"
     ]
    }
   ],
   "source": [
    "with open('weather_september2021.csv', mode='w') as csv_file:\n",
    "    fieldnames = ['date','tempature', 'pressure', 'humidity','cloud','wind_spped']\n",
    "    writer = csv.DictWriter(csv_file, fieldnames=fieldnames)\n",
    "    writer.writeheader()\n",
    "\n",
    "    lon = 11.10905\n",
    "    lat = 57.62533\n",
    "    start=1630454400-86400\n",
    "    appid = \"15b4e3a05539b75a7ddee429b06124e6\"\n",
    "\n",
    "    for i in range(30):\n",
    "        start = start + 86400\n",
    "        end = start + 86400\n",
    "        # get Weather\n",
    "        url = \"http://history.openweathermap.org/data/2.5/history/city?lat=\"+str(lat)+\"&lon=\"+str(lon)+\"&start=\"+str(start)+\"&end=\"+str(end)+\"&appid=\"+appid\n",
    "\n",
    "        response = requests.get(url)\n",
    "        if(response.status_code == 200):\n",
    "            weather_data = json.loads(response.text)\n",
    "            if(weather_data):\n",
    "                for data in weather_data['list']:\n",
    "                    dt_object = datetime.utcfromtimestamp(data['dt'])\n",
    "                    writer.writerow({'date':str(dt_object),'tempature': data[\"main\"][\"temp\"], 'pressure': data[\"main\"][\"pressure\"], 'humidity': data[\"main\"][\"humidity\"],\n",
    "                                    'cloud': data[\"clouds\"][\"all\"], 'wind_spped': data[\"wind\"][\"speed\"]})\n",
    "            else:\n",
    "                # write CSV\n",
    "                writer.writerow({'date':str(dt_object),'tempature': -1, 'pressure': -1, 'humidity': -1, 'cloud': -1, 'wind_spped': -1})\n",
    "        else:\n",
    "            print(response.status_code, response.reason)\n",
    "            writer.writerow({'date':-1,'tempature': -1, 'pressure': -1, 'humidity': -1, 'cloud': -1, 'wind_spped': -1})\n"
   ]
  },
  {
   "cell_type": "code",
   "execution_count": 27,
   "metadata": {},
   "outputs": [
    {
     "data": {
      "text/plain": [
       "'2021-09-01 00:00:00'"
      ]
     },
     "execution_count": 27,
     "metadata": {},
     "output_type": "execute_result"
    }
   ],
   "source": [
    "str(datetime.utcfromtimestamp(1630454400))"
   ]
  }
 ],
 "metadata": {
  "interpreter": {
   "hash": "ba64837464763bcb8cc749bb767779508ccec8edc384661a9b0d9df4f85b79d1"
  },
  "kernelspec": {
   "display_name": "Python 3.10.1 64-bit",
   "language": "python",
   "name": "python3"
  },
  "language_info": {
   "codemirror_mode": {
    "name": "ipython",
    "version": 3
   },
   "file_extension": ".py",
   "mimetype": "text/x-python",
   "name": "python",
   "nbconvert_exporter": "python",
   "pygments_lexer": "ipython3",
   "version": "3.10.1"
  },
  "orig_nbformat": 4
 },
 "nbformat": 4,
 "nbformat_minor": 2
}
