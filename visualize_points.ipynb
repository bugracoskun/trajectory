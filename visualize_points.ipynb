{
 "cells": [
  {
   "cell_type": "code",
   "execution_count": 34,
   "id": "8327b393-922f-437d-b79a-8dc095d486ed",
   "metadata": {},
   "outputs": [],
   "source": [
    "import pandas as pd\n",
    "import numpy as np\n",
    "import matplotlib.pyplot as plt"
   ]
  },
  {
   "cell_type": "code",
   "execution_count": 35,
   "id": "695d6c0c-e4f0-4a5c-8e98-4926b162bfa4",
   "metadata": {},
   "outputs": [],
   "source": [
    "df=pd.read_csv('219005068_10min_1.csv', sep=',',header=None)"
   ]
  },
  {
   "cell_type": "code",
   "execution_count": 36,
   "id": "68e546e3-2de1-40f5-a9da-5c5eca3881be",
   "metadata": {},
   "outputs": [
    {
     "data": {
      "text/plain": [
       "array([['time', 'lat', 'lon'],\n",
       "       ['2020-12-01 04:02:08', '55.171472', '11.160347'],\n",
       "       ['2020-12-01 04:02:18', '55.171573', '11.160433'],\n",
       "       ...,\n",
       "       ['2020-12-31 16:09:00', '55.191652', '11.242725'],\n",
       "       ['2020-12-31 16:09:09', '55.191197', '11.24284'],\n",
       "       ['2020-12-31 16:09:18', '55.190787', '11.24293']], dtype=object)"
      ]
     },
     "execution_count": 36,
     "metadata": {},
     "output_type": "execute_result"
    }
   ],
   "source": [
    "df.values"
   ]
  },
  {
   "cell_type": "code",
   "execution_count": 37,
   "id": "f0f46b46-5fd4-4266-8b5b-72fb679f2d40",
   "metadata": {},
   "outputs": [],
   "source": [
    "lon_values=df.values[:,2]\n",
    "lon_values=np.delete(lon_values, 0)"
   ]
  },
  {
   "cell_type": "code",
   "execution_count": 38,
   "id": "d8330ccf-5730-47b2-a438-289a54c02dd9",
   "metadata": {},
   "outputs": [],
   "source": [
    "lat_values=df.values[:,1]\n",
    "lat_values=np.delete(lat_values, 0)"
   ]
  },
  {
   "cell_type": "code",
   "execution_count": 40,
   "id": "3d7fb7b8-024d-415a-a030-2261c8213cbc",
   "metadata": {},
   "outputs": [
    {
     "data": {
      "image/png": "[encoded data removed]",
      "text/plain": [
       "<Figure size 432x288 with 1 Axes>"
      ]
     },
     "metadata": {
      "needs_background": "light"
     },
     "output_type": "display_data"
    }
   ],
   "source": [
    "plt.scatter(lon_values,lat_values)\n",
    "plt.show()"
   ]
  },
  {
   "cell_type": "code",
   "execution_count": null,
   "id": "06b52489-48c2-4f87-bc54-7f2dd04e70f7",
   "metadata": {},
   "outputs": [],
   "source": []
  }
 ],
 "metadata": {
  "kernelspec": {
   "display_name": "Python 3",
   "language": "python",
   "name": "python3"
  },
  "language_info": {
   "codemirror_mode": {
    "name": "ipython",
    "version": 3
   },
   "file_extension": ".py",
   "mimetype": "text/x-python",
   "name": "python",
   "nbconvert_exporter": "python",
   "pygments_lexer": "ipython3",
   "version": "3.8.9"
  }
 },
 "nbformat": 4,
 "nbformat_minor": 5
}
